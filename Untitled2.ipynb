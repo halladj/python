{
 "cells": [
  {
   "cell_type": "code",
   "execution_count": 1,
   "id": "e3357864",
   "metadata": {},
   "outputs": [],
   "source": [
    "import os\n",
    "import urllib\n",
    "\n",
    "DOWNLOAD_ROOT = \"https://raw.githubusercontent.com/halladj/data_set/main/\"\n",
    "#LAPTOPS_PATH = os.path.join(\"datasets\", \"labtops\")\n",
    "LAPTOPS_PATH = os.path.join(\"test_datasets\", \"labtops\")\n",
    "\n",
    "#LAPTOPS_URL = DOWNLOAD_ROOT + \"datasets/laptops/final.csv\"\n",
    "LAPTOPS_URL = DOWNLOAD_ROOT + \"test_datasets/laptops/inhanced_test.csv\"\n",
    "\n",
    "def fetch_laptops_data(laptops_url = LAPTOPS_URL, laptops_path = LAPTOPS_PATH):\n",
    "    os.makedirs(laptops_path, exist_ok= True)\n",
    "    #file_path = os.path.join(laptops_path, \"final.csv\")\n",
    "    file_path = os.path.join(laptops_path, \"inhanced_test.csv\")\n",
    "    urllib.request.urlretrieve(laptops_url, file_path)\n",
    "    \n",
    "import pandas as pd\n",
    "import numpy as np\n",
    "\n",
    "def load_laptops_data(laptops_path = LAPTOPS_PATH):\n",
    "    #csv_path = os.path.join(laptops_path, \"final.csv\")\n",
    "    csv_path = os.path.join(laptops_path, \"inhanced_test.csv\")\n",
    "    return pd.read_csv(csv_path, dtype= category_cols)    "
   ]
  },
  {
   "cell_type": "code",
   "execution_count": 2,
   "id": "97cda4cb",
   "metadata": {},
   "outputs": [],
   "source": [
    "category_cols = {item: 'category' for item in ['ram_type', 'cpu_number_identifier', 'brand', 'cpu_family'\n",
    "                                               , 'cpu_modifier',  'gpu_brand', 'gpu_number_identifier', 'gpu_words_identifier',\n",
    "                                               'screen_resolution', 'cpu_brand']}\n",
    "\n",
    "fetch_laptops_data()\n",
    "laptops= load_laptops_data()\n",
    "\n",
    "laptops[\"state\"].replace([\"new\", \"used\"], [True, False], inplace=True)\n",
    "laptops[\"touch_screen\"].replace([1, 0], [True, False], inplace=True)\n",
    "laptops[\"anti_glare\"].replace([1, 0], [True, False], inplace=True)\n",
    "laptops[\"gpu_vram\"].replace([0], [None], inplace=True)\n",
    "laptops[\"gpu_brand\"].replace([0], [None], inplace=True)\n",
    "laptops[\"gpu_number_identifier\"].replace([0], [None], inplace=True)\n",
    "laptops[\"gpu_words_identifier\"].replace([0], [None], inplace=True)\n",
    "#####\n",
    "\n",
    "\n",
    "laptops.dtypes\n",
    "column_label= laptops[\"price\"]\n",
    "laptops=laptops.drop(columns=[\"price\"])"
   ]
  },
  {
   "cell_type": "code",
   "execution_count": 3,
   "id": "8024f5b5",
   "metadata": {},
   "outputs": [
    {
     "data": {
      "text/plain": [
       "0       735.0\n",
       "1       735.0\n",
       "2      1380.0\n",
       "3      1110.0\n",
       "4      1493.0\n",
       "        ...  \n",
       "496     900.0\n",
       "497    1531.0\n",
       "498    1110.0\n",
       "499    1110.0\n",
       "500     712.0\n",
       "Name: gpu_frequency, Length: 501, dtype: float64"
      ]
     },
     "execution_count": 3,
     "metadata": {},
     "output_type": "execute_result"
    }
   ],
   "source": [
    "laptops[\"gpu_frequency\"].replace([np.nan], inplace=True)\n",
    "laptops[\"gpu_frequency\"]"
   ]
  },
  {
   "cell_type": "code",
   "execution_count": 4,
   "id": "d8552e58",
   "metadata": {
    "scrolled": true
   },
   "outputs": [
    {
     "name": "stdout",
     "output_type": "stream",
     "text": [
      "Shape of the data-set:  (501, 24)\n"
     ]
    }
   ],
   "source": [
    "#####\n",
    "## Nombre de lignes et Nombre de colonnes \n",
    "#####\n",
    "\n",
    "print(\"Shape of the data-set: \", laptops.shape)"
   ]
  },
  {
   "cell_type": "code",
   "execution_count": 5,
   "id": "269b06a9",
   "metadata": {},
   "outputs": [
    {
     "name": "stdout",
     "output_type": "stream",
     "text": [
      "THE NAME OF THE COLUMN LABEL: price\n"
     ]
    }
   ],
   "source": [
    "#####\n",
    "## the label column\n",
    "#####\n",
    "#column_label\n",
    "\n",
    "print(\"THE NAME OF THE COLUMN LABEL: price\")"
   ]
  },
  {
   "cell_type": "code",
   "execution_count": 6,
   "id": "2a9fa561",
   "metadata": {},
   "outputs": [
    {
     "data": {
      "text/plain": [
       "Back-light                float64\n",
       "anti_glare                   bool\n",
       "brand                    category\n",
       "cpu_brand                category\n",
       "cpu_family               category\n",
       "cpu_frequency             float64\n",
       "cpu_generation              int64\n",
       "cpu_modifier             category\n",
       "cpu_number_identifier    category\n",
       "gpu_brand                category\n",
       "gpu_frequency             float64\n",
       "gpu_number_identifier    category\n",
       "gpu_vram                   object\n",
       "gpu_words_identifier     category\n",
       "hdd                         int64\n",
       "ram                         int64\n",
       "ram_frequency             float64\n",
       "ram_type                 category\n",
       "screen_refresh_rate         int64\n",
       "screen_resolution        category\n",
       "screen_size               float64\n",
       "ssd                         int64\n",
       "state                        bool\n",
       "touch_screen                 bool\n",
       "dtype: object"
      ]
     },
     "execution_count": 6,
     "metadata": {},
     "output_type": "execute_result"
    }
   ],
   "source": [
    "#####\n",
    "## The type of each column\n",
    "#####\n",
    "\n",
    "laptops.dtypes"
   ]
  },
  {
   "cell_type": "code",
   "execution_count": 7,
   "id": "68a3d661",
   "metadata": {
    "scrolled": true
   },
   "outputs": [
    {
     "data": {
      "text/html": [
       "<div>\n",
       "<style scoped>\n",
       "    .dataframe tbody tr th:only-of-type {\n",
       "        vertical-align: middle;\n",
       "    }\n",
       "\n",
       "    .dataframe tbody tr th {\n",
       "        vertical-align: top;\n",
       "    }\n",
       "\n",
       "    .dataframe thead th {\n",
       "        text-align: right;\n",
       "    }\n",
       "</style>\n",
       "<table border=\"1\" class=\"dataframe\">\n",
       "  <thead>\n",
       "    <tr style=\"text-align: right;\">\n",
       "      <th></th>\n",
       "      <th>Back-light</th>\n",
       "      <th>cpu_frequency</th>\n",
       "      <th>cpu_generation</th>\n",
       "      <th>gpu_frequency</th>\n",
       "      <th>hdd</th>\n",
       "      <th>ram</th>\n",
       "      <th>ram_frequency</th>\n",
       "      <th>screen_refresh_rate</th>\n",
       "      <th>screen_size</th>\n",
       "      <th>ssd</th>\n",
       "    </tr>\n",
       "  </thead>\n",
       "  <tbody>\n",
       "    <tr>\n",
       "      <th>count</th>\n",
       "      <td>281.000000</td>\n",
       "      <td>501.000000</td>\n",
       "      <td>501.000000</td>\n",
       "      <td>501.000000</td>\n",
       "      <td>501.000000</td>\n",
       "      <td>501.000000</td>\n",
       "      <td>501.000000</td>\n",
       "      <td>501.000000</td>\n",
       "      <td>501.000000</td>\n",
       "      <td>501.000000</td>\n",
       "    </tr>\n",
       "    <tr>\n",
       "      <th>mean</th>\n",
       "      <td>0.209964</td>\n",
       "      <td>2.337525</td>\n",
       "      <td>8.149701</td>\n",
       "      <td>1252.453094</td>\n",
       "      <td>221.556886</td>\n",
       "      <td>13.497006</td>\n",
       "      <td>2205.292216</td>\n",
       "      <td>78.652695</td>\n",
       "      <td>15.076248</td>\n",
       "      <td>400.918164</td>\n",
       "    </tr>\n",
       "    <tr>\n",
       "      <th>std</th>\n",
       "      <td>0.408010</td>\n",
       "      <td>0.752867</td>\n",
       "      <td>2.662244</td>\n",
       "      <td>283.997268</td>\n",
       "      <td>439.106333</td>\n",
       "      <td>7.807848</td>\n",
       "      <td>1246.298319</td>\n",
       "      <td>41.451552</td>\n",
       "      <td>1.235190</td>\n",
       "      <td>314.145882</td>\n",
       "    </tr>\n",
       "    <tr>\n",
       "      <th>min</th>\n",
       "      <td>0.000000</td>\n",
       "      <td>0.000000</td>\n",
       "      <td>0.000000</td>\n",
       "      <td>712.000000</td>\n",
       "      <td>0.000000</td>\n",
       "      <td>4.000000</td>\n",
       "      <td>0.000000</td>\n",
       "      <td>0.000000</td>\n",
       "      <td>11.000000</td>\n",
       "      <td>0.000000</td>\n",
       "    </tr>\n",
       "    <tr>\n",
       "      <th>25%</th>\n",
       "      <td>0.000000</td>\n",
       "      <td>2.100000</td>\n",
       "      <td>7.000000</td>\n",
       "      <td>975.000000</td>\n",
       "      <td>0.000000</td>\n",
       "      <td>8.000000</td>\n",
       "      <td>2133.000000</td>\n",
       "      <td>60.000000</td>\n",
       "      <td>14.000000</td>\n",
       "      <td>256.000000</td>\n",
       "    </tr>\n",
       "    <tr>\n",
       "      <th>50%</th>\n",
       "      <td>0.000000</td>\n",
       "      <td>2.400000</td>\n",
       "      <td>8.000000</td>\n",
       "      <td>1380.000000</td>\n",
       "      <td>0.000000</td>\n",
       "      <td>16.000000</td>\n",
       "      <td>2666.000000</td>\n",
       "      <td>60.000000</td>\n",
       "      <td>15.600000</td>\n",
       "      <td>256.000000</td>\n",
       "    </tr>\n",
       "    <tr>\n",
       "      <th>75%</th>\n",
       "      <td>0.000000</td>\n",
       "      <td>2.600000</td>\n",
       "      <td>10.000000</td>\n",
       "      <td>1493.000000</td>\n",
       "      <td>0.000000</td>\n",
       "      <td>16.000000</td>\n",
       "      <td>3200.000000</td>\n",
       "      <td>60.000000</td>\n",
       "      <td>15.600000</td>\n",
       "      <td>512.000000</td>\n",
       "    </tr>\n",
       "    <tr>\n",
       "      <th>max</th>\n",
       "      <td>1.000000</td>\n",
       "      <td>5.300000</td>\n",
       "      <td>12.000000</td>\n",
       "      <td>1700.000000</td>\n",
       "      <td>4000.000000</td>\n",
       "      <td>64.000000</td>\n",
       "      <td>4800.000000</td>\n",
       "      <td>360.000000</td>\n",
       "      <td>17.300000</td>\n",
       "      <td>2000.000000</td>\n",
       "    </tr>\n",
       "  </tbody>\n",
       "</table>\n",
       "</div>"
      ],
      "text/plain": [
       "       Back-light  cpu_frequency  cpu_generation  gpu_frequency          hdd  \\\n",
       "count  281.000000     501.000000      501.000000     501.000000   501.000000   \n",
       "mean     0.209964       2.337525        8.149701    1252.453094   221.556886   \n",
       "std      0.408010       0.752867        2.662244     283.997268   439.106333   \n",
       "min      0.000000       0.000000        0.000000     712.000000     0.000000   \n",
       "25%      0.000000       2.100000        7.000000     975.000000     0.000000   \n",
       "50%      0.000000       2.400000        8.000000    1380.000000     0.000000   \n",
       "75%      0.000000       2.600000       10.000000    1493.000000     0.000000   \n",
       "max      1.000000       5.300000       12.000000    1700.000000  4000.000000   \n",
       "\n",
       "              ram  ram_frequency  screen_refresh_rate  screen_size  \\\n",
       "count  501.000000     501.000000           501.000000   501.000000   \n",
       "mean    13.497006    2205.292216            78.652695    15.076248   \n",
       "std      7.807848    1246.298319            41.451552     1.235190   \n",
       "min      4.000000       0.000000             0.000000    11.000000   \n",
       "25%      8.000000    2133.000000            60.000000    14.000000   \n",
       "50%     16.000000    2666.000000            60.000000    15.600000   \n",
       "75%     16.000000    3200.000000            60.000000    15.600000   \n",
       "max     64.000000    4800.000000           360.000000    17.300000   \n",
       "\n",
       "               ssd  \n",
       "count   501.000000  \n",
       "mean    400.918164  \n",
       "std     314.145882  \n",
       "min       0.000000  \n",
       "25%     256.000000  \n",
       "50%     256.000000  \n",
       "75%     512.000000  \n",
       "max    2000.000000  "
      ]
     },
     "execution_count": 7,
     "metadata": {},
     "output_type": "execute_result"
    }
   ],
   "source": [
    "#####\n",
    "## Statistics over the numirique types\n",
    "#####\n",
    "\n",
    "laptops.describe()"
   ]
  },
  {
   "cell_type": "code",
   "execution_count": 8,
   "id": "d4053305",
   "metadata": {},
   "outputs": [],
   "source": [
    "laptops_category= laptops[['ram_type', 'brand', 'cpu_family', \"cpu_generation\"\n",
    "                                               , 'cpu_modifier',  'gpu_brand', 'gpu_number_identifier', 'gpu_words_identifier',\n",
    "                                               'screen_resolution', 'cpu_brand']]\n",
    "#remove cpu generation\n",
    "laptops_num= laptops.drop(columns=['ram_type','cpu_number_identifier', 'brand', 'cpu_family'\n",
    "                                               , 'cpu_modifier',  'gpu_brand', 'gpu_number_identifier', 'gpu_words_identifier',\n",
    "                                               'screen_resolution', 'cpu_brand'])\n",
    "#laptops_num= laptops_num.drop(columns=['Back-light', 'gpu_frequency'])\n",
    "laptops_num= laptops_num.drop(columns=['Back-light'])"
   ]
  },
  {
   "cell_type": "code",
   "execution_count": 9,
   "id": "2521bd65",
   "metadata": {},
   "outputs": [
    {
     "data": {
      "text/plain": [
       "ddr4     383\n",
       "ddr4x     99\n",
       "ddr3       7\n",
       "ddr3l      6\n",
       "ddr5       3\n",
       "0          2\n",
       "sdram      1\n",
       "Name: ram_type, dtype: int64"
      ]
     },
     "execution_count": 9,
     "metadata": {},
     "output_type": "execute_result"
    }
   ],
   "source": [
    "laptops_category[\"ram_type\"].value_counts()"
   ]
  },
  {
   "cell_type": "code",
   "execution_count": 10,
   "id": "087fe0bf",
   "metadata": {},
   "outputs": [],
   "source": [
    "#laptops_category[\"cpu_number_identifier\"]\n",
    "#laptops_category[\"cpu_generation\"].value_counts()"
   ]
  },
  {
   "cell_type": "code",
   "execution_count": 11,
   "id": "2d2e1af8",
   "metadata": {},
   "outputs": [
    {
     "data": {
      "text/plain": [
       "hp           117\n",
       "asus         104\n",
       "lenovo        91\n",
       "dell          87\n",
       "msi           41\n",
       "acer          29\n",
       "apple         10\n",
       "microsoft      7\n",
       "fujitsu        6\n",
       "huawei         5\n",
       "toshiba        2\n",
       "dynabook       1\n",
       "xiaomi         1\n",
       "Name: brand, dtype: int64"
      ]
     },
     "execution_count": 11,
     "metadata": {},
     "output_type": "execute_result"
    }
   ],
   "source": [
    "laptops_category[\"brand\"].value_counts()"
   ]
  },
  {
   "cell_type": "code",
   "execution_count": 12,
   "id": "a27fc401",
   "metadata": {},
   "outputs": [
    {
     "data": {
      "text/plain": [
       "u     177\n",
       "h     160\n",
       "g7     62\n",
       "hq     34\n",
       "g1     19\n",
       "g4     13\n",
       "0      10\n",
       "n       9\n",
       "hx      6\n",
       "hk      3\n",
       "m       2\n",
       "hf      1\n",
       "g       1\n",
       "hs      1\n",
       "k       1\n",
       "p       1\n",
       "q       1\n",
       "Name: cpu_family, dtype: int64"
      ]
     },
     "execution_count": 12,
     "metadata": {},
     "output_type": "execute_result"
    }
   ],
   "source": [
    "laptops_category[\"cpu_family\"].value_counts()"
   ]
  },
  {
   "cell_type": "code",
   "execution_count": 13,
   "id": "899ef612",
   "metadata": {},
   "outputs": [
    {
     "data": {
      "text/plain": [
       "i5                206\n",
       "i7                173\n",
       "i3                 35\n",
       "ryzen5             30\n",
       "ryzen7             19\n",
       "i9                 14\n",
       "ryzen9              8\n",
       "celeron             5\n",
       "A4                  2\n",
       "pentium             2\n",
       "pentium silver      2\n",
       "A9                  1\n",
       "Athlon              1\n",
       "Athlon Gold         1\n",
       "a10                 1\n",
       "ryzen3              1\n",
       "Name: cpu_modifier, dtype: int64"
      ]
     },
     "execution_count": 13,
     "metadata": {},
     "output_type": "execute_result"
    }
   ],
   "source": [
    "laptops_category[\"cpu_modifier\"].value_counts()"
   ]
  },
  {
   "cell_type": "code",
   "execution_count": 14,
   "id": "8a858223",
   "metadata": {},
   "outputs": [
    {
     "data": {
      "text/plain": [
       "0         262\n",
       "nvidia    234\n",
       "amd         5\n",
       "Name: gpu_brand, dtype: int64"
      ]
     },
     "execution_count": 14,
     "metadata": {},
     "output_type": "execute_result"
    }
   ],
   "source": [
    "laptops_category[\"gpu_brand\"].value_counts()"
   ]
  },
  {
   "cell_type": "code",
   "execution_count": 15,
   "id": "180c8b8b",
   "metadata": {},
   "outputs": [
    {
     "data": {
      "text/plain": [
       "0             199\n",
       "none           63\n",
       "1050 ti        31\n",
       "3050 ti        27\n",
       "1650           21\n",
       "3060           19\n",
       "1050           18\n",
       "2060           14\n",
       "1060           13\n",
       "1660 ti        10\n",
       "t2000          10\n",
       "3070            9\n",
       "1650 ti         6\n",
       "1070            6\n",
       "3080            6\n",
       "2060 max-q      3\n",
       "2070            3\n",
       "2080            3\n",
       "130             3\n",
       "m500m           3\n",
       "330             2\n",
       "t1000           2\n",
       "p620            2\n",
       "m520            2\n",
       "150             2\n",
       "450             2\n",
       "wx 3100         2\n",
       "1080            2\n",
       "250             2\n",
       "3070 ti         1\n",
       "t500            1\n",
       "1060 max-q      1\n",
       "2080 max-q      1\n",
       "p520            1\n",
       "3050            1\n",
       "110             1\n",
       "3080 ti         1\n",
       "m1200           1\n",
       "a4000           1\n",
       "M420            1\n",
       "960M            1\n",
       "940mx           1\n",
       "930mx           1\n",
       "6700s           1\n",
       "5600m           1\n",
       "Name: gpu_number_identifier, dtype: int64"
      ]
     },
     "execution_count": 15,
     "metadata": {},
     "output_type": "execute_result"
    }
   ],
   "source": [
    "laptops_category[\"gpu_number_identifier\"].value_counts()"
   ]
  },
  {
   "cell_type": "code",
   "execution_count": 16,
   "id": "d3c3536f",
   "metadata": {},
   "outputs": [
    {
     "data": {
      "text/plain": [
       "0              262\n",
       "geforce gtx    110\n",
       "geforce rtx     88\n",
       "quadro          22\n",
       "geforce mx      12\n",
       "geforce          2\n",
       "radeon           2\n",
       "radeon rx        2\n",
       "radeon5          1\n",
       "Name: gpu_words_identifier, dtype: int64"
      ]
     },
     "execution_count": 16,
     "metadata": {},
     "output_type": "execute_result"
    }
   ],
   "source": [
    "laptops_category[\"gpu_words_identifier\"].value_counts()"
   ]
  },
  {
   "cell_type": "code",
   "execution_count": 17,
   "id": "d27c40d2",
   "metadata": {},
   "outputs": [
    {
     "data": {
      "text/plain": [
       "fhd    405\n",
       "hd      54\n",
       "4k      28\n",
       "3k       7\n",
       "2k       4\n",
       "qhd      3\n",
       "Name: screen_resolution, dtype: int64"
      ]
     },
     "execution_count": 17,
     "metadata": {},
     "output_type": "execute_result"
    }
   ],
   "source": [
    "laptops_category[\"screen_resolution\"].value_counts()"
   ]
  },
  {
   "cell_type": "code",
   "execution_count": 18,
   "id": "a8638ba5",
   "metadata": {},
   "outputs": [
    {
     "data": {
      "text/plain": [
       "intel    437\n",
       "amd       64\n",
       "Name: cpu_brand, dtype: int64"
      ]
     },
     "execution_count": 18,
     "metadata": {},
     "output_type": "execute_result"
    }
   ],
   "source": [
    "laptops_category[\"cpu_brand\"].value_counts()"
   ]
  },
  {
   "cell_type": "code",
   "execution_count": 19,
   "id": "bf5738a2",
   "metadata": {},
   "outputs": [
    {
     "data": {
      "image/png": "[encoded data removed]",
      "text/plain": [
       "<Figure size 1440x1080 with 12 Axes>"
      ]
     },
     "metadata": {
      "needs_background": "light"
     },
     "output_type": "display_data"
    }
   ],
   "source": [
    "\n",
    "%matplotlib inline\n",
    "import matplotlib.pyplot as plt\n",
    "laptops.hist(bins=50, figsize= (20, 15))\n",
    "plt.show()"
   ]
  },
  {
   "cell_type": "code",
   "execution_count": null,
   "id": "67087286",
   "metadata": {},
   "outputs": [],
   "source": []
  },
  {
   "cell_type": "code",
   "execution_count": 20,
   "id": "a973cb17",
   "metadata": {},
   "outputs": [
    {
     "data": {
      "text/plain": [
       "[array(['0', 'ddr3', 'ddr3l', 'ddr4', 'ddr4x', 'ddr5', 'sdram'],\n",
       "       dtype=object),\n",
       " array(['acer', 'apple', 'asus', 'dell', 'dynabook', 'fujitsu', 'hp',\n",
       "        'huawei', 'lenovo', 'microsoft', 'msi', 'toshiba', 'xiaomi'],\n",
       "       dtype=object),\n",
       " array(['0', 'g', 'g1', 'g4', 'g7', 'h', 'hf', 'hk', 'hq', 'hs', 'hx', 'k',\n",
       "        'm', 'n', 'p', 'q', 'u'], dtype=object),\n",
       " array([ 0,  2,  3,  4,  5,  6,  7,  8,  9, 10, 11, 12]),\n",
       " array(['A4', 'A9', 'Athlon ', 'Athlon Gold', 'a10', 'celeron', 'i3', 'i5',\n",
       "        'i7', 'i9', 'pentium', 'pentium silver', 'ryzen3', 'ryzen5',\n",
       "        'ryzen7', 'ryzen9'], dtype=object),\n",
       " array(['0', 'amd', 'nvidia'], dtype=object),\n",
       " array(['0', '1050', '1050 ti', '1060', '1060 max-q', '1070', '1080',\n",
       "        '110', '130', '150', '1650', '1650 ti', '1660 ti', '2060',\n",
       "        '2060 max-q', '2070', '2080', '2080 max-q', '250', '3050',\n",
       "        '3050 ti', '3060', '3070', '3070 ti', '3080', '3080 ti', '330',\n",
       "        '450', '5600m', '6700s', '930mx', '940mx', '960M', 'M420', 'a4000',\n",
       "        'm1200', 'm500m', 'm520', 'none', 'p520', 'p620', 't1000', 't2000',\n",
       "        't500', 'wx 3100'], dtype=object),\n",
       " array(['0', 'geforce', 'geforce gtx', 'geforce mx', 'geforce rtx',\n",
       "        'quadro', 'radeon', 'radeon rx', 'radeon5'], dtype=object),\n",
       " array(['2k', '3k', '4k', 'fhd', 'hd', 'qhd'], dtype=object),\n",
       " array(['amd', 'intel'], dtype=object)]"
      ]
     },
     "execution_count": 20,
     "metadata": {},
     "output_type": "execute_result"
    }
   ],
   "source": [
    "####\n",
    "## Encoding \n",
    "#### \n",
    "###useing OneHot Encoder \n",
    "from sklearn.preprocessing import OneHotEncoder, OrdinalEncoder\n",
    "onehot_encoder= OneHotEncoder()\n",
    "laptops_category_encoded= onehot_encoder.fit_transform(laptops_category)\n",
    "laptops_category_encoded.toarray()[0]\n",
    "onehot_encoder.categories_\n",
    "\n"
   ]
  },
  {
   "cell_type": "code",
   "execution_count": 21,
   "id": "2658b372",
   "metadata": {},
   "outputs": [],
   "source": [
    "#####\n",
    "## NUMIRICAL VALUES STANDRAIZATION\n",
    "#####\n",
    "from sklearn.pipeline import Pipeline\n",
    "from sklearn.preprocessing import StandardScaler\n",
    "from sklearn.impute import SimpleImputer\n",
    "\n",
    "num_pipeline_std= Pipeline([\n",
    "    (\"imputer\", SimpleImputer(strategy=\"median\")),\n",
    "    (\"standered_scaler\", StandardScaler())\n",
    "])\n",
    "\n",
    "laptops_num_transformed= num_pipeline_std.fit_transform(laptops_num)\n",
    "#labtops_num_transformed\n",
    "\n"
   ]
  },
  {
   "cell_type": "code",
   "execution_count": 22,
   "id": "990dadd3",
   "metadata": {},
   "outputs": [
    {
     "data": {
      "text/plain": [
       "array([[-1.33541504,  1.27969006,  1.0717079 , ...,  0.35395295,\n",
       "         1.47339271, -0.36885556],\n",
       "       [-1.33541504, -1.64539161, -3.06427405, ..., -0.86963083,\n",
       "         1.47339271, -0.36885556],\n",
       "       [-1.33541504,  0.34898225,  0.31971118, ..., -0.46176957,\n",
       "         1.47339271, -0.36885556],\n",
       "       ...,\n",
       "       [-1.33541504,  1.27969006, -1.18428225, ...,  1.90892402,\n",
       "        -0.67870568, -0.36885556],\n",
       "       [ 0.74883086,  0.88081528,  1.0717079 , ..., -0.46176957,\n",
       "         1.47339271, -0.36885556],\n",
       "       [ 0.74883086,  0.88081528,  1.0717079 , ..., -0.46176957,\n",
       "         1.47339271, -0.36885556]])"
      ]
     },
     "execution_count": 22,
     "metadata": {},
     "output_type": "execute_result"
    }
   ],
   "source": [
    "#####\n",
    "## STANDARAIZATION && MinMaxScalling and Using the imputer to fill the missing values\n",
    "#####\n",
    "\n",
    "from sklearn.preprocessing import MinMaxScaler\n",
    "\n",
    "num_pipeline_full= Pipeline([\n",
    "    (\"imputer\", SimpleImputer(strategy=\"median\")),\n",
    "    #(\"MinMax_scaler\", MinMaxScaler()),\n",
    "    (\"standered_scaler\", StandardScaler())\n",
    "])\n",
    "\n",
    "laptops_num_transformed= num_pipeline_full.fit_transform(laptops_num)\n",
    "laptops_num_transformed\n",
    "\n"
   ]
  },
  {
   "cell_type": "code",
   "execution_count": 23,
   "id": "5a85316d",
   "metadata": {},
   "outputs": [
    {
     "data": {
      "image/png": "[encoded data removed]",
      "text/plain": [
       "<Figure size 1440x1080 with 16 Axes>"
      ]
     },
     "metadata": {
      "needs_background": "light"
     },
     "output_type": "display_data"
    }
   ],
   "source": [
    "#####\n",
    "### Showcasing the numirical data values after the \n",
    "###      STANDARAIZATION and scalling\n",
    "#####\n",
    "pd.DataFrame(laptops_num_transformed, columns=list(laptops_num.columns)).hist(bins=50, figsize= (20, 15))\n",
    "plt.show()"
   ]
  },
  {
   "cell_type": "code",
   "execution_count": 24,
   "id": "5b4162ec",
   "metadata": {},
   "outputs": [
    {
     "data": {
      "text/plain": [
       "<501x192 sparse matrix of type '<class 'numpy.float64'>'\n",
       "\twith 11523 stored elements in Compressed Sparse Row format>"
      ]
     },
     "execution_count": 24,
     "metadata": {},
     "output_type": "execute_result"
    }
   ],
   "source": [
    "#####\n",
    "## Applying the Encoding and the scalling to the data set ,\n",
    "##        and Receiving the prepared data-set\n",
    "#####\n",
    "category_att= list(category_cols.keys())\n",
    "num_att= list(laptops_num.columns)\n",
    "\n",
    "\n",
    "from sklearn.compose import ColumnTransformer\n",
    "\n",
    "full_pipeline= ColumnTransformer([\n",
    "    (\"num\", num_pipeline_full, num_att),\n",
    "    (\"categories\", OneHotEncoder(), category_att)\n",
    "    \n",
    "])\n",
    "\n",
    "laptops_prepared= full_pipeline.fit_transform(laptops)\n",
    "laptops_prepared"
   ]
  },
  {
   "cell_type": "code",
   "execution_count": 25,
   "id": "19de426c",
   "metadata": {},
   "outputs": [],
   "source": [
    "column_label= column_label.values.reshape(501,1)"
   ]
  },
  {
   "cell_type": "code",
   "execution_count": 26,
   "id": "dbcd4bdb",
   "metadata": {},
   "outputs": [
    {
     "data": {
      "text/plain": [
       "(400, 192)"
      ]
     },
     "execution_count": 26,
     "metadata": {},
     "output_type": "execute_result"
    }
   ],
   "source": [
    "from sklearn.model_selection import train_test_split\n",
    "\n",
    "x_train, x_validation, y_train, y_validation= train_test_split(laptops_prepared, column_label, test_size=0.2)\n",
    "x_train.shape"
   ]
  },
  {
   "cell_type": "code",
   "execution_count": 27,
   "id": "e953ed4f",
   "metadata": {},
   "outputs": [
    {
     "name": "stdout",
     "output_type": "stream",
     "text": [
      "Mean squared error: 2361882814.00\n",
      "Coefficient of determination: 0.67\n",
      "predict : [[110923.09595982]]\n",
      "the real resuly:  [115000]\n",
      "0.6737345384975464\n"
     ]
    },
    {
     "data": {
      "text/plain": [
       "array([127326.77153991])"
      ]
     },
     "execution_count": 27,
     "metadata": {},
     "output_type": "execute_result"
    }
   ],
   "source": [
    "#####\n",
    "### LinearModels \n",
    "#####\n",
    "from sklearn import linear_model\n",
    "from sklearn.metrics import mean_squared_error, r2_score, mean_absolute_error\n",
    "\n",
    "## least squares\n",
    "reg = linear_model.LinearRegression()\n",
    "reg.fit(x_train, y_train)\n",
    "\n",
    "laptops_lsqrs= reg.predict(x_validation)\n",
    "\n",
    "\n",
    "#print(\"Coefficients: \\n\", reg.coef_)\n",
    "\n",
    "print(\"Mean squared error: %.2f\" % mean_squared_error(y_validation, laptops_lsqrs))\n",
    "\n",
    "print(\"Coefficient of determination: %.2f\" % r2_score(y_validation, laptops_lsqrs))\n",
    "\n",
    "print(\"predict :\", reg.predict(x_validation[13]))\n",
    "print(\"the real resuly: \", y_validation[13])\n",
    "\n",
    "print (reg.score(x_validation, y_validation))\n",
    "\n",
    "laptops_lsqrs[2]"
   ]
  },
  {
   "cell_type": "code",
   "execution_count": 28,
   "id": "ebe6bab9",
   "metadata": {},
   "outputs": [
    {
     "name": "stdout",
     "output_type": "stream",
     "text": [
      "Mean squared error: 1567249938.05\n",
      "Coefficient of determination: 0.78\n",
      "predict : [[140526.4788312]]\n",
      "the real resuly:  [135000]\n",
      "0.7835034315432063\n"
     ]
    }
   ],
   "source": [
    "## Ridge\n",
    "reg = linear_model.Ridge()\n",
    "reg.fit(x_train, y_train)\n",
    "\n",
    "laptops_lsqrs= reg.predict(x_validation)\n",
    "\n",
    "\n",
    "#print(\"Coefficients: \\n\", reg.coef_)\n",
    "\n",
    "print(\"Mean squared error: %.2f\" % mean_squared_error(y_validation, laptops_lsqrs))\n",
    "\n",
    "print(\"Coefficient of determination: %.2f\" % r2_score(y_validation, laptops_lsqrs))\n",
    "\n",
    "print(\"predict :\", reg.predict(x_validation[42]))\n",
    "print(\"the real resuly: \", y_validation[42])\n",
    "\n",
    "print (reg.score(x_validation, y_validation))"
   ]
  },
  {
   "cell_type": "code",
   "execution_count": 29,
   "id": "a6abef80",
   "metadata": {},
   "outputs": [
    {
     "name": "stdout",
     "output_type": "stream",
     "text": [
      "Mean squared error: 2327332599.53\n",
      "Coefficient of determination: 0.68\n",
      "predict : [143552.57203216]\n",
      "the real resuly:  [160000]\n",
      "0.678507231536965\n"
     ]
    },
    {
     "name": "stderr",
     "output_type": "stream",
     "text": [
      "/home/hambz/Uni/python/workspace/workshop_trail/lib/python3.10/site-packages/sklearn/linear_model/_coordinate_descent.py:609: ConvergenceWarning: Objective did not converge. You might want to increase the number of iterations. Duality gap: 25670670612.77353, tolerance: 374697811.5885478\n",
      "  model = cd_fast.sparse_enet_coordinate_descent(\n"
     ]
    }
   ],
   "source": [
    "## Lasso\n",
    "reg = linear_model.Lasso(max_iter=1000)\n",
    "reg.fit(x_train, y_train)\n",
    "\n",
    "laptops_lsqrs= reg.predict(x_validation)\n",
    "\n",
    "\n",
    "#print(\"Coefficients: \\n\", reg.coef_)\n",
    "\n",
    "print(\"Mean squared error: %.2f\" % mean_squared_error(y_validation, laptops_lsqrs))\n",
    "\n",
    "print(\"Coefficient of determination: %.2f\" % r2_score(y_validation, laptops_lsqrs))\n",
    "\n",
    "print(\"predict :\", reg.predict(x_validation[16]))\n",
    "print(\"the real resuly: \", y_validation[16])\n",
    "\n",
    "print (reg.score(x_validation, y_validation))"
   ]
  },
  {
   "cell_type": "code",
   "execution_count": 30,
   "id": "5140db6b",
   "metadata": {},
   "outputs": [
    {
     "name": "stdout",
     "output_type": "stream",
     "text": [
      "Mean squared error: 1351202489.59\n",
      "Coefficient of determination: 0.81\n",
      "predict : [225490.31047887]\n",
      "the real resuly:  [198000]\n",
      "0.8133477659281042\n"
     ]
    },
    {
     "name": "stderr",
     "output_type": "stream",
     "text": [
      "/home/hambz/Uni/python/workspace/workshop_trail/lib/python3.10/site-packages/sklearn/utils/validation.py:993: DataConversionWarning: A column-vector y was passed when a 1d array was expected. Please change the shape of y to (n_samples, ), for example using ravel().\n",
      "  y = column_or_1d(y, warn=True)\n"
     ]
    }
   ],
   "source": [
    "reg = linear_model.SGDRegressor()\n",
    "reg.fit(x_train, y_train)\n",
    "\n",
    "laptops_lsqrs= reg.predict(x_validation)\n",
    "\n",
    "\n",
    "#print(\"Coefficients: \\n\", reg.coef_)\n",
    "\n",
    "print(\"Mean squared error: %.2f\" % mean_squared_error(y_validation, laptops_lsqrs))\n",
    "\n",
    "print(\"Coefficient of determination: %.2f\" % r2_score(y_validation, laptops_lsqrs))\n",
    "\n",
    "print(\"predict :\", reg.predict(x_validation[6]))\n",
    "print(\"the real resuly: \", y_validation[6])\n",
    "\n",
    "print (reg.score(x_validation, y_validation))"
   ]
  }
 ],
 "metadata": {
  "kernelspec": {
   "display_name": "Python 3 (ipykernel)",
   "language": "python",
   "name": "python3"
  },
  "language_info": {
   "codemirror_mode": {
    "name": "ipython",
    "version": 3
   },
   "file_extension": ".py",
   "mimetype": "text/x-python",
   "name": "python",
   "nbconvert_exporter": "python",
   "pygments_lexer": "ipython3",
   "version": "3.10.4"
  }
 },
 "nbformat": 4,
 "nbformat_minor": 5
}
