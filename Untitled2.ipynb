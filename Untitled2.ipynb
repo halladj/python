{
 "cells": [
  {
   "cell_type": "code",
   "execution_count": 123,
   "id": "e3357864",
   "metadata": {},
   "outputs": [],
   "source": [
    "import os\n",
    "import urllib\n",
    "\n",
    "DOWNLOAD_ROOT = \"https://raw.githubusercontent.com/halladj/data_set/main/\"\n",
    "LAPTOPS_PATH = os.path.join(\"datasets\", \"labtops\")\n",
    "LAPTOPS_URL = DOWNLOAD_ROOT + \"datasets/labtops/final.csv\"\n",
    "\n",
    "def fetch_laptops_data(laptops_url = LAPTOPS_URL, laptops_path = LAPTOPS_PATH):\n",
    "    os.makedirs(laptops_path, exist_ok= True)\n",
    "    file_path = os.path.join(laptops_path, \"final.csv\")\n",
    "    urllib.request.urlretrieve(laptops_url, file_path)\n",
    "    \n",
    "import pandas as pd\n",
    "import numpy as np\n",
    "\n",
    "def load_laptops_data(laptops_path = LAPTOPS_PATH):\n",
    "    csv_path = os.path.join(laptops_path, \"final.csv\")\n",
    "    return pd.read_csv(csv_path, dtype= category_cols)    "
   ]
  },
  {
   "cell_type": "code",
   "execution_count": 124,
   "id": "97cda4cb",
   "metadata": {},
   "outputs": [
    {
     "ename": "NameError",
     "evalue": "name 'laptops_url' is not defined",
     "output_type": "error",
     "traceback": [
      "\u001b[0;31m---------------------------------------------------------------------------\u001b[0m",
      "\u001b[0;31mNameError\u001b[0m                                 Traceback (most recent call last)",
      "Input \u001b[0;32mIn [124]\u001b[0m, in \u001b[0;36m<module>\u001b[0;34m\u001b[0m\n\u001b[1;32m      1\u001b[0m category_cols \u001b[38;5;241m=\u001b[39m {item: \u001b[38;5;124m'\u001b[39m\u001b[38;5;124mcategory\u001b[39m\u001b[38;5;124m'\u001b[39m \u001b[38;5;28;01mfor\u001b[39;00m item \u001b[38;5;129;01min\u001b[39;00m [\u001b[38;5;124m'\u001b[39m\u001b[38;5;124mram_type\u001b[39m\u001b[38;5;124m'\u001b[39m, \u001b[38;5;124m'\u001b[39m\u001b[38;5;124mcpu_number_identifier\u001b[39m\u001b[38;5;124m'\u001b[39m, \u001b[38;5;124m'\u001b[39m\u001b[38;5;124mbrand\u001b[39m\u001b[38;5;124m'\u001b[39m, \u001b[38;5;124m'\u001b[39m\u001b[38;5;124mcpu_family\u001b[39m\u001b[38;5;124m'\u001b[39m\n\u001b[1;32m      2\u001b[0m                                                , \u001b[38;5;124m'\u001b[39m\u001b[38;5;124mcpu_modifier\u001b[39m\u001b[38;5;124m'\u001b[39m,  \u001b[38;5;124m'\u001b[39m\u001b[38;5;124mgpu_brand\u001b[39m\u001b[38;5;124m'\u001b[39m, \u001b[38;5;124m'\u001b[39m\u001b[38;5;124mgpu_number_identifier\u001b[39m\u001b[38;5;124m'\u001b[39m, \u001b[38;5;124m'\u001b[39m\u001b[38;5;124mgpu_words_identifier\u001b[39m\u001b[38;5;124m'\u001b[39m,\n\u001b[1;32m      3\u001b[0m                                                \u001b[38;5;124m'\u001b[39m\u001b[38;5;124mscreen_resolution\u001b[39m\u001b[38;5;124m'\u001b[39m, \u001b[38;5;124m'\u001b[39m\u001b[38;5;124mcpu_brand\u001b[39m\u001b[38;5;124m'\u001b[39m]}\n\u001b[0;32m----> 5\u001b[0m \u001b[43mfetch_laptops_data\u001b[49m\u001b[43m(\u001b[49m\u001b[43m)\u001b[49m\n\u001b[1;32m      6\u001b[0m laptops\u001b[38;5;241m=\u001b[39m load_laptops_data()\n\u001b[1;32m      8\u001b[0m laptops[\u001b[38;5;124m\"\u001b[39m\u001b[38;5;124mstate\u001b[39m\u001b[38;5;124m\"\u001b[39m]\u001b[38;5;241m.\u001b[39mreplace([\u001b[38;5;124m\"\u001b[39m\u001b[38;5;124mnew\u001b[39m\u001b[38;5;124m\"\u001b[39m, \u001b[38;5;124m\"\u001b[39m\u001b[38;5;124mused\u001b[39m\u001b[38;5;124m\"\u001b[39m], [\u001b[38;5;28;01mTrue\u001b[39;00m, \u001b[38;5;28;01mFalse\u001b[39;00m], inplace\u001b[38;5;241m=\u001b[39m\u001b[38;5;28;01mTrue\u001b[39;00m)\n",
      "Input \u001b[0;32mIn [123]\u001b[0m, in \u001b[0;36mfetch_laptops_data\u001b[0;34m(labtops_url, laptops_path)\u001b[0m\n\u001b[1;32m      9\u001b[0m os\u001b[38;5;241m.\u001b[39mmakedirs(laptops_path, exist_ok\u001b[38;5;241m=\u001b[39m \u001b[38;5;28;01mTrue\u001b[39;00m)\n\u001b[1;32m     10\u001b[0m file_path \u001b[38;5;241m=\u001b[39m os\u001b[38;5;241m.\u001b[39mpath\u001b[38;5;241m.\u001b[39mjoin(laptops_path, \u001b[38;5;124m\"\u001b[39m\u001b[38;5;124mfinal.csv\u001b[39m\u001b[38;5;124m\"\u001b[39m)\n\u001b[0;32m---> 11\u001b[0m urllib\u001b[38;5;241m.\u001b[39mrequest\u001b[38;5;241m.\u001b[39murlretrieve(\u001b[43mlaptops_url\u001b[49m, file_path)\n",
      "\u001b[0;31mNameError\u001b[0m: name 'laptops_url' is not defined"
     ]
    }
   ],
   "source": [
    "category_cols = {item: 'category' for item in ['ram_type', 'cpu_number_identifier', 'brand', 'cpu_family'\n",
    "                                               , 'cpu_modifier',  'gpu_brand', 'gpu_number_identifier', 'gpu_words_identifier',\n",
    "                                               'screen_resolution', 'cpu_brand']}\n",
    "\n",
    "fetch_laptops_data()\n",
    "laptops= load_laptops_data()\n",
    "\n",
    "laptops[\"state\"].replace([\"new\", \"used\"], [True, False], inplace=True)\n",
    "laptops[\"touch_screen\"].replace([1, 0], [True, False], inplace=True)\n",
    "laptops[\"anti_glare\"].replace([1, 0], [True, False], inplace=True)\n",
    "\n",
    "column_label= labtops[\"price\"]\n",
    "laptops=laptops.drop(columns=[\"price\"])"
   ]
  },
  {
   "cell_type": "code",
   "execution_count": null,
   "id": "d8552e58",
   "metadata": {
    "scrolled": true
   },
   "outputs": [],
   "source": [
    "#####\n",
    "## Nombre de lignes et Nombre de colonnes \n",
    "#####\n",
    "print(\"Shape of the data-set: \", laptops.shape)"
   ]
  },
  {
   "cell_type": "code",
   "execution_count": null,
   "id": "269b06a9",
   "metadata": {},
   "outputs": [],
   "source": [
    "#####\n",
    "## the label column\n",
    "#####\n",
    "column_label"
   ]
  },
  {
   "cell_type": "code",
   "execution_count": null,
   "id": "2a9fa561",
   "metadata": {},
   "outputs": [],
   "source": [
    "#####\n",
    "## The type of each column\n",
    "#####\n",
    "\n",
    "\n",
    "laptops.dtypes"
   ]
  },
  {
   "cell_type": "code",
   "execution_count": null,
   "id": "68a3d661",
   "metadata": {
    "scrolled": true
   },
   "outputs": [],
   "source": [
    "#####\n",
    "## Statistics over the numirique types\n",
    "#####\n",
    "\n",
    "laptops.describe()"
   ]
  },
  {
   "cell_type": "code",
   "execution_count": null,
   "id": "d4053305",
   "metadata": {},
   "outputs": [],
   "source": [
    "laptops_category= labtops[['ram_type', 'cpu_number_identifier', 'brand', 'cpu_family'\n",
    "                                               , 'cpu_modifier',  'gpu_brand', 'gpu_number_identifier', 'gpu_words_identifier',\n",
    "                                               'screen_resolution', 'cpu_brand']]\n",
    "\n",
    "laptops_num= labtops.drop(columns=['ram_type', 'cpu_number_identifier', 'brand', 'cpu_family'\n",
    "                                               , 'cpu_modifier',  'gpu_brand', 'gpu_number_identifier', 'gpu_words_identifier',\n",
    "                                               'screen_resolution', 'cpu_brand'])"
   ]
  },
  {
   "cell_type": "code",
   "execution_count": null,
   "id": "2521bd65",
   "metadata": {},
   "outputs": [],
   "source": [
    "laptops_category[\"ram_type\"].value_counts()"
   ]
  },
  {
   "cell_type": "code",
   "execution_count": null,
   "id": "087fe0bf",
   "metadata": {},
   "outputs": [],
   "source": [
    "laptops_category[\"cpu_number_identifier\"].value_counts()"
   ]
  },
  {
   "cell_type": "code",
   "execution_count": null,
   "id": "2d2e1af8",
   "metadata": {},
   "outputs": [],
   "source": [
    "laptops_category[\"brand\"].value_counts()"
   ]
  },
  {
   "cell_type": "code",
   "execution_count": null,
   "id": "a27fc401",
   "metadata": {},
   "outputs": [],
   "source": [
    "laptops_category[\"cpu_family\"].value_counts()"
   ]
  },
  {
   "cell_type": "code",
   "execution_count": null,
   "id": "899ef612",
   "metadata": {},
   "outputs": [],
   "source": [
    "laptops_category[\"cpu_modifier\"].value_counts()"
   ]
  },
  {
   "cell_type": "code",
   "execution_count": null,
   "id": "8a858223",
   "metadata": {},
   "outputs": [],
   "source": [
    "laptops_category[\"gpu_brand\"].value_counts()"
   ]
  },
  {
   "cell_type": "code",
   "execution_count": null,
   "id": "180c8b8b",
   "metadata": {},
   "outputs": [],
   "source": [
    "laptops_category[\"gpu_number_identifier\"].value_counts()"
   ]
  },
  {
   "cell_type": "code",
   "execution_count": null,
   "id": "d3c3536f",
   "metadata": {},
   "outputs": [],
   "source": [
    "laptops_category[\"gpu_words_identifier\"].value_counts()"
   ]
  },
  {
   "cell_type": "code",
   "execution_count": null,
   "id": "d27c40d2",
   "metadata": {},
   "outputs": [],
   "source": [
    "laptops_category[\"screen_resolution\"].value_counts()"
   ]
  },
  {
   "cell_type": "code",
   "execution_count": null,
   "id": "a8638ba5",
   "metadata": {},
   "outputs": [],
   "source": [
    "laptops_category[\"cpu_brand\"].value_counts()"
   ]
  },
  {
   "cell_type": "code",
   "execution_count": null,
   "id": "bf5738a2",
   "metadata": {},
   "outputs": [],
   "source": [
    "\n",
    "%matplotlib inline\n",
    "import matplotlib.pyplot as plt\n",
    "laptops.hist(bins=50, figsize= (20, 15))\n",
    "plt.show()"
   ]
  },
  {
   "cell_type": "code",
   "execution_count": null,
   "id": "67087286",
   "metadata": {},
   "outputs": [],
   "source": []
  },
  {
   "cell_type": "code",
   "execution_count": null,
   "id": "a973cb17",
   "metadata": {},
   "outputs": [],
   "source": [
    "####\n",
    "##DEALING WITH CATEGORITICAL ATRIBUTES\n",
    "####\n",
    "\n",
    "#### RAM type\n",
    "\n",
    "\n",
    "##### ORDINAL Encoder\n",
    "laptops_category.head()\n",
    "\n",
    "from sklearn.preprocessing import OrdinalEncoder\n",
    "ordinal_encoder= OrdinalEncoder()\n",
    "laptops_category_encoded_1= ordinal_encoder.fit_transform(laptops_category)\n",
    "\n",
    "\n",
    "\n",
    "##### OneHot Encoder \n",
    "from sklearn.preprocessing import OneHotEncoder\n",
    "onehot_encoder= OneHotEncoder()\n",
    "laptops_category_encoded= onehot_encoder.fit_transform(laptops_category)\n",
    "laptops_category_encoded.toarray()[0]\n",
    "onehot_encoder.categories_\n",
    "\n",
    "\n",
    "pd.DataFrame(laptops_category_encoded_1, columns=list(category_cols.keys())).hist(bins=50, figsize= (20, 15))\n",
    "plt.show()\n",
    "laptops_category_encoded"
   ]
  },
  {
   "cell_type": "code",
   "execution_count": null,
   "id": "2658b372",
   "metadata": {},
   "outputs": [],
   "source": [
    "#####\n",
    "## NUMIRICAL VALUES STANDRAIZATION\n",
    "#####\n",
    "from sklearn.pipeline import Pipeline\n",
    "from sklearn.preprocessing import StandardScaler\n",
    "from sklearn.impute import SimpleImputer\n",
    "\n",
    "num_pipeline_std= Pipeline([\n",
    "    (\"imputer\", SimpleImputer(strategy=\"median\")),\n",
    "    (\"standered_scaler\", StandardScaler())\n",
    "])\n",
    "\n",
    "laptops_num_transformed= num_pipeline_std.fit_transform(laptops_num)\n",
    "#labtops_num_transformed\n",
    "\n"
   ]
  },
  {
   "cell_type": "code",
   "execution_count": null,
   "id": "990dadd3",
   "metadata": {},
   "outputs": [],
   "source": [
    "#####\n",
    "## STANDARAIZATION && MinMaxScalling\n",
    "#####\n",
    "\n",
    "from sklearn.preprocessing import MinMaxScaler\n",
    "\n",
    "num_pipeline_full= Pipeline([\n",
    "    (\"imputer\", SimpleImputer(strategy=\"median\")),\n",
    "    (\"MinMax_scaler\", MinMaxScaler()),\n",
    "    (\"standered_scaler\", StandardScaler())\n",
    "])\n",
    "\n",
    "laptops_num_transformed= num_pipeline_full.fit_transform(laptops_num)\n",
    "laptops_num_transformed\n",
    "\n",
    "pd.DataFrame(laptops_num_transformed, columns=list(laptops_num.columns)).hist(bins=50, figsize= (20, 15))\n",
    "plt.show()"
   ]
  },
  {
   "cell_type": "code",
   "execution_count": null,
   "id": "5b4162ec",
   "metadata": {},
   "outputs": [],
   "source": [
    "#####\n",
    "## BRINGING THE WHOLE THING TOGEATHER\n",
    "#####\n",
    "category_att= list(category_cols.keys())\n",
    "num_att= list(labtops_num.columns)\n",
    "\n",
    "\n",
    "from sklearn.compose import ColumnTransformer\n",
    "\n",
    "full_pipeline= ColumnTransformer([\n",
    "    (\"num\", num_pipeline_full, num_att),\n",
    "    (\"categories\", OrdinalEncoder(), category_att)\n",
    "    \n",
    "])\n",
    "\n",
    "labtops_prepared= full_pipeline.fit_transform(laptops)\n",
    "labtops_prepared\n"
   ]
  },
  {
   "cell_type": "code",
   "execution_count": null,
   "id": "f390b81b",
   "metadata": {},
   "outputs": [],
   "source": []
  }
 ],
 "metadata": {
  "kernelspec": {
   "display_name": "Python 3 (ipykernel)",
   "language": "python",
   "name": "python3"
  },
  "language_info": {
   "codemirror_mode": {
    "name": "ipython",
    "version": 3
   },
   "file_extension": ".py",
   "mimetype": "text/x-python",
   "name": "python",
   "nbconvert_exporter": "python",
   "pygments_lexer": "ipython3",
   "version": "3.10.3"
  }
 },
 "nbformat": 4,
 "nbformat_minor": 5
}
