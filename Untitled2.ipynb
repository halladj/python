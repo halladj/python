{
 "cells": [
  {
   "cell_type": "code",
   "execution_count": 29,
   "id": "e3357864",
   "metadata": {},
   "outputs": [],
   "source": [
    "import os\n",
    "import urllib\n",
    "\n",
    "DOWNLOAD_ROOT = \"https://raw.githubusercontent.com/halladj/data_set/main/\"\n",
    "LAPTOPS_PATH = os.path.join(\"datasets\", \"labtops\")\n",
    "LAPTOPS_URL = DOWNLOAD_ROOT + \"datasets/labtops/final.csv\"\n",
    "\n",
    "def fetch_laptops_data(laptops_url = LAPTOPS_URL, laptops_path = LAPTOPS_PATH):\n",
    "    os.makedirs(laptops_path, exist_ok= True)\n",
    "    file_path = os.path.join(laptops_path, \"final.csv\")\n",
    "    urllib.request.urlretrieve(laptops_url, file_path)\n",
    "    \n",
    "import pandas as pd\n",
    "import numpy as np\n",
    "\n",
    "def load_laptops_data(laptops_path = LAPTOPS_PATH):\n",
    "    csv_path = os.path.join(laptops_path, \"final.csv\")\n",
    "    return pd.read_csv(csv_path, dtype= category_cols)    "
   ]
  },
  {
   "cell_type": "code",
   "execution_count": null,
   "id": "d5559b9d",
   "metadata": {},
   "outputs": [],
   "source": []
  },
  {
   "cell_type": "code",
   "execution_count": 30,
   "id": "97cda4cb",
   "metadata": {},
   "outputs": [],
   "source": [
    "category_cols = {item: 'category' for item in ['ram_type', 'cpu_number_identifier', 'brand', 'cpu_family'\n",
    "                                               , 'cpu_modifier',  'gpu_brand', 'gpu_number_identifier', 'gpu_words_identifier',\n",
    "                                               'screen_resolution', 'cpu_brand']}\n",
    "\n",
    "#fetch_laptops_data()\n",
    "laptops= load_laptops_data()\n",
    "\n",
    "laptops[\"state\"].replace([\"new\", \"used\"], [True, False], inplace=True)\n",
    "laptops[\"touch_screen\"].replace([1, 0], [True, False], inplace=True)\n",
    "laptops[\"anti_glare\"].replace([1, 0], [True, False], inplace=True)\n",
    "laptops.dtypes\n",
    "column_label= laptops[\"price\"]\n",
    "laptops=laptops.drop(columns=[\"price\"])"
   ]
  },
  {
   "cell_type": "code",
   "execution_count": 31,
   "id": "d8552e58",
   "metadata": {
    "scrolled": true
   },
   "outputs": [
    {
     "name": "stdout",
     "output_type": "stream",
     "text": [
      "Shape of the data-set:  (281, 23)\n"
     ]
    }
   ],
   "source": [
    "#####\n",
    "## Nombre de lignes et Nombre de colonnes \n",
    "#####\n",
    "\n",
    "print(\"Shape of the data-set: \", laptops.shape)"
   ]
  },
  {
   "cell_type": "code",
   "execution_count": 32,
   "id": "269b06a9",
   "metadata": {},
   "outputs": [
    {
     "name": "stdout",
     "output_type": "stream",
     "text": [
      "THE NAME OF THE COLUMN LABEL: price\n"
     ]
    }
   ],
   "source": [
    "#####\n",
    "## the label column\n",
    "#####\n",
    "#column_label\n",
    "\n",
    "print(\"THE NAME OF THE COLUMN LABEL: price\")"
   ]
  },
  {
   "cell_type": "code",
   "execution_count": 33,
   "id": "2a9fa561",
   "metadata": {},
   "outputs": [
    {
     "data": {
      "text/plain": [
       "Back-light                  int64\n",
       "anti_glare                   bool\n",
       "brand                    category\n",
       "cpu_brand                category\n",
       "cpu_family               category\n",
       "cpu_frequency             float64\n",
       "cpu_modifier             category\n",
       "cpu_number_identifier    category\n",
       "gpu_brand                category\n",
       "gpu_frequency             float64\n",
       "gpu_number_identifier    category\n",
       "gpu_vram                    int64\n",
       "gpu_words_identifier     category\n",
       "hdd                         int64\n",
       "ram                         int64\n",
       "ram_frequency             float64\n",
       "ram_type                 category\n",
       "screen_refresh_rate         int64\n",
       "screen_resolution        category\n",
       "screen_size               float64\n",
       "ssd                         int64\n",
       "state                        bool\n",
       "touch_screen                 bool\n",
       "dtype: object"
      ]
     },
     "execution_count": 33,
     "metadata": {},
     "output_type": "execute_result"
    }
   ],
   "source": [
    "#####\n",
    "## The type of each column\n",
    "#####\n",
    "\n",
    "laptops.dtypes"
   ]
  },
  {
   "cell_type": "code",
   "execution_count": 34,
   "id": "68a3d661",
   "metadata": {
    "scrolled": true
   },
   "outputs": [
    {
     "data": {
      "text/html": [
       "<div>\n",
       "<style scoped>\n",
       "    .dataframe tbody tr th:only-of-type {\n",
       "        vertical-align: middle;\n",
       "    }\n",
       "\n",
       "    .dataframe tbody tr th {\n",
       "        vertical-align: top;\n",
       "    }\n",
       "\n",
       "    .dataframe thead th {\n",
       "        text-align: right;\n",
       "    }\n",
       "</style>\n",
       "<table border=\"1\" class=\"dataframe\">\n",
       "  <thead>\n",
       "    <tr style=\"text-align: right;\">\n",
       "      <th></th>\n",
       "      <th>Back-light</th>\n",
       "      <th>cpu_frequency</th>\n",
       "      <th>gpu_frequency</th>\n",
       "      <th>gpu_vram</th>\n",
       "      <th>hdd</th>\n",
       "      <th>ram</th>\n",
       "      <th>ram_frequency</th>\n",
       "      <th>screen_refresh_rate</th>\n",
       "      <th>screen_size</th>\n",
       "      <th>ssd</th>\n",
       "    </tr>\n",
       "  </thead>\n",
       "  <tbody>\n",
       "    <tr>\n",
       "      <th>count</th>\n",
       "      <td>281.000000</td>\n",
       "      <td>281.000000</td>\n",
       "      <td>212.000000</td>\n",
       "      <td>281.000000</td>\n",
       "      <td>281.00000</td>\n",
       "      <td>281.000000</td>\n",
       "      <td>281.000000</td>\n",
       "      <td>281.000000</td>\n",
       "      <td>281.000000</td>\n",
       "      <td>281.000000</td>\n",
       "    </tr>\n",
       "    <tr>\n",
       "      <th>mean</th>\n",
       "      <td>0.209964</td>\n",
       "      <td>2.334164</td>\n",
       "      <td>7.122642</td>\n",
       "      <td>2.384342</td>\n",
       "      <td>311.38790</td>\n",
       "      <td>14.085409</td>\n",
       "      <td>2085.111744</td>\n",
       "      <td>79.953737</td>\n",
       "      <td>15.233096</td>\n",
       "      <td>397.565836</td>\n",
       "    </tr>\n",
       "    <tr>\n",
       "      <th>std</th>\n",
       "      <td>0.408010</td>\n",
       "      <td>0.800987</td>\n",
       "      <td>103.707226</td>\n",
       "      <td>2.663571</td>\n",
       "      <td>451.20299</td>\n",
       "      <td>8.585276</td>\n",
       "      <td>1203.635576</td>\n",
       "      <td>39.134037</td>\n",
       "      <td>1.278395</td>\n",
       "      <td>334.662896</td>\n",
       "    </tr>\n",
       "    <tr>\n",
       "      <th>min</th>\n",
       "      <td>0.000000</td>\n",
       "      <td>0.000000</td>\n",
       "      <td>0.000000</td>\n",
       "      <td>0.000000</td>\n",
       "      <td>0.00000</td>\n",
       "      <td>4.000000</td>\n",
       "      <td>0.000000</td>\n",
       "      <td>0.000000</td>\n",
       "      <td>11.000000</td>\n",
       "      <td>0.000000</td>\n",
       "    </tr>\n",
       "    <tr>\n",
       "      <th>25%</th>\n",
       "      <td>0.000000</td>\n",
       "      <td>2.100000</td>\n",
       "      <td>0.000000</td>\n",
       "      <td>0.000000</td>\n",
       "      <td>0.00000</td>\n",
       "      <td>8.000000</td>\n",
       "      <td>1866.000000</td>\n",
       "      <td>60.000000</td>\n",
       "      <td>14.000000</td>\n",
       "      <td>256.000000</td>\n",
       "    </tr>\n",
       "    <tr>\n",
       "      <th>50%</th>\n",
       "      <td>0.000000</td>\n",
       "      <td>2.400000</td>\n",
       "      <td>0.000000</td>\n",
       "      <td>2.000000</td>\n",
       "      <td>0.00000</td>\n",
       "      <td>16.000000</td>\n",
       "      <td>2400.000000</td>\n",
       "      <td>60.000000</td>\n",
       "      <td>15.600000</td>\n",
       "      <td>256.000000</td>\n",
       "    </tr>\n",
       "    <tr>\n",
       "      <th>75%</th>\n",
       "      <td>0.000000</td>\n",
       "      <td>2.600000</td>\n",
       "      <td>0.000000</td>\n",
       "      <td>4.000000</td>\n",
       "      <td>1000.00000</td>\n",
       "      <td>16.000000</td>\n",
       "      <td>2667.000000</td>\n",
       "      <td>120.000000</td>\n",
       "      <td>15.600000</td>\n",
       "      <td>512.000000</td>\n",
       "    </tr>\n",
       "    <tr>\n",
       "      <th>max</th>\n",
       "      <td>1.000000</td>\n",
       "      <td>5.300000</td>\n",
       "      <td>1510.000000</td>\n",
       "      <td>8.000000</td>\n",
       "      <td>1000.00000</td>\n",
       "      <td>64.000000</td>\n",
       "      <td>4267.000000</td>\n",
       "      <td>300.000000</td>\n",
       "      <td>17.300000</td>\n",
       "      <td>2000.000000</td>\n",
       "    </tr>\n",
       "  </tbody>\n",
       "</table>\n",
       "</div>"
      ],
      "text/plain": [
       "       Back-light  cpu_frequency  gpu_frequency    gpu_vram         hdd  \\\n",
       "count  281.000000     281.000000     212.000000  281.000000   281.00000   \n",
       "mean     0.209964       2.334164       7.122642    2.384342   311.38790   \n",
       "std      0.408010       0.800987     103.707226    2.663571   451.20299   \n",
       "min      0.000000       0.000000       0.000000    0.000000     0.00000   \n",
       "25%      0.000000       2.100000       0.000000    0.000000     0.00000   \n",
       "50%      0.000000       2.400000       0.000000    2.000000     0.00000   \n",
       "75%      0.000000       2.600000       0.000000    4.000000  1000.00000   \n",
       "max      1.000000       5.300000    1510.000000    8.000000  1000.00000   \n",
       "\n",
       "              ram  ram_frequency  screen_refresh_rate  screen_size  \\\n",
       "count  281.000000     281.000000           281.000000   281.000000   \n",
       "mean    14.085409    2085.111744            79.953737    15.233096   \n",
       "std      8.585276    1203.635576            39.134037     1.278395   \n",
       "min      4.000000       0.000000             0.000000    11.000000   \n",
       "25%      8.000000    1866.000000            60.000000    14.000000   \n",
       "50%     16.000000    2400.000000            60.000000    15.600000   \n",
       "75%     16.000000    2667.000000           120.000000    15.600000   \n",
       "max     64.000000    4267.000000           300.000000    17.300000   \n",
       "\n",
       "               ssd  \n",
       "count   281.000000  \n",
       "mean    397.565836  \n",
       "std     334.662896  \n",
       "min       0.000000  \n",
       "25%     256.000000  \n",
       "50%     256.000000  \n",
       "75%     512.000000  \n",
       "max    2000.000000  "
      ]
     },
     "execution_count": 34,
     "metadata": {},
     "output_type": "execute_result"
    }
   ],
   "source": [
    "#####\n",
    "## Statistics over the numirique types\n",
    "#####\n",
    "\n",
    "laptops.describe()"
   ]
  },
  {
   "cell_type": "code",
   "execution_count": 35,
   "id": "d4053305",
   "metadata": {},
   "outputs": [],
   "source": [
    "laptops_category= laptops[['ram_type', 'cpu_number_identifier', 'brand', 'cpu_family'\n",
    "                                               , 'cpu_modifier',  'gpu_brand', 'gpu_number_identifier', 'gpu_words_identifier',\n",
    "                                               'screen_resolution', 'cpu_brand']]\n",
    "\n",
    "laptops_num= laptops.drop(columns=['ram_type', 'cpu_number_identifier', 'brand', 'cpu_family'\n",
    "                                               , 'cpu_modifier',  'gpu_brand', 'gpu_number_identifier', 'gpu_words_identifier',\n",
    "                                               'screen_resolution', 'cpu_brand'])\n",
    "laptops_num= laptops_num.drop(columns=['Back-light', 'gpu_frequency'])"
   ]
  },
  {
   "cell_type": "code",
   "execution_count": 36,
   "id": "2521bd65",
   "metadata": {},
   "outputs": [
    {
     "data": {
      "text/plain": [
       "ddr4     237\n",
       "ddr4x     35\n",
       "ddr3l      4\n",
       "0          2\n",
       "ddr3       2\n",
       "sdram      1\n",
       "Name: ram_type, dtype: int64"
      ]
     },
     "execution_count": 36,
     "metadata": {},
     "output_type": "execute_result"
    }
   ],
   "source": [
    "laptops_category[\"ram_type\"].value_counts()"
   ]
  },
  {
   "cell_type": "code",
   "execution_count": 37,
   "id": "087fe0bf",
   "metadata": {},
   "outputs": [
    {
     "data": {
      "text/plain": [
       "8750    20\n",
       "9750    17\n",
       "8300    15\n",
       "7700    14\n",
       "7300    13\n",
       "        ..\n",
       "3200     1\n",
       "6820     1\n",
       "7020     1\n",
       "2500     1\n",
       "9980     1\n",
       "Name: cpu_number_identifier, Length: 75, dtype: int64"
      ]
     },
     "execution_count": 37,
     "metadata": {},
     "output_type": "execute_result"
    }
   ],
   "source": [
    "laptops_category[\"cpu_number_identifier\"].value_counts()"
   ]
  },
  {
   "cell_type": "code",
   "execution_count": 38,
   "id": "2d2e1af8",
   "metadata": {},
   "outputs": [
    {
     "data": {
      "text/plain": [
       "hp           71\n",
       "asus         64\n",
       "dell         42\n",
       "lenovo       41\n",
       "msi          25\n",
       "acer         21\n",
       "apple         7\n",
       "fujitsu       3\n",
       "microsoft     2\n",
       "toshiba       2\n",
       "dynabook      1\n",
       "huawei        1\n",
       "xiaomi        1\n",
       "Name: brand, dtype: int64"
      ]
     },
     "execution_count": 38,
     "metadata": {},
     "output_type": "execute_result"
    }
   ],
   "source": [
    "laptops_category[\"brand\"].value_counts()"
   ]
  },
  {
   "cell_type": "code",
   "execution_count": 39,
   "id": "a27fc401",
   "metadata": {},
   "outputs": [
    {
     "data": {
      "text/plain": [
       "h     97\n",
       "u     91\n",
       "hq    32\n",
       "g7    22\n",
       "g1     9\n",
       "g4     7\n",
       "n      5\n",
       "0      3\n",
       "hx     2\n",
       "m      2\n",
       "hf     1\n",
       "hk     1\n",
       "k      1\n",
       "q      1\n",
       "Name: cpu_family, dtype: int64"
      ]
     },
     "execution_count": 39,
     "metadata": {},
     "output_type": "execute_result"
    }
   ],
   "source": [
    "laptops_category[\"cpu_family\"].value_counts()"
   ]
  },
  {
   "cell_type": "code",
   "execution_count": 40,
   "id": "899ef612",
   "metadata": {},
   "outputs": [
    {
     "data": {
      "text/plain": [
       "i5                112\n",
       "i7                102\n",
       "i3                 18\n",
       "ryzen5             16\n",
       "i9                 12\n",
       "ryzen7              9\n",
       "A4                  2\n",
       "Pentium             2\n",
       "celeron             2\n",
       "ryzen9              2\n",
       "A9                  1\n",
       "Athlon              1\n",
       "pentium silver      1\n",
       "ryzen3              1\n",
       "Name: cpu_modifier, dtype: int64"
      ]
     },
     "execution_count": 40,
     "metadata": {},
     "output_type": "execute_result"
    }
   ],
   "source": [
    "laptops_category[\"cpu_modifier\"].value_counts()"
   ]
  },
  {
   "cell_type": "code",
   "execution_count": 41,
   "id": "8a858223",
   "metadata": {},
   "outputs": [
    {
     "data": {
      "text/plain": [
       "nvidia    148\n",
       "0         130\n",
       "amd         3\n",
       "Name: gpu_brand, dtype: int64"
      ]
     },
     "execution_count": 41,
     "metadata": {},
     "output_type": "execute_result"
    }
   ],
   "source": [
    "laptops_category[\"gpu_brand\"].value_counts()"
   ]
  },
  {
   "cell_type": "code",
   "execution_count": 42,
   "id": "180c8b8b",
   "metadata": {},
   "outputs": [
    {
     "data": {
      "text/plain": [
       "0             130\n",
       "1050           34\n",
       "1650           14\n",
       "2060           13\n",
       "1060           13\n",
       "1050 ti        10\n",
       "3060            9\n",
       "1070            5\n",
       "3050 ti         5\n",
       "3070            4\n",
       "1660 ti         3\n",
       "2070            3\n",
       "2080            3\n",
       "1650 ti         3\n",
       "2060 max-q      3\n",
       "T2000           2\n",
       "250             2\n",
       "3050            2\n",
       "3080            2\n",
       "p620            2\n",
       "m1200           1\n",
       "a4000           1\n",
       "t1000           1\n",
       "mx130           1\n",
       "M520            1\n",
       "t2000           1\n",
       "t500            1\n",
       "MX110           1\n",
       "930mx           1\n",
       "M420            1\n",
       "960M            1\n",
       "940mx           1\n",
       "5600m           1\n",
       "450             1\n",
       "330             1\n",
       "1060 max-q      1\n",
       "150             1\n",
       "2080 max-q      1\n",
       "wx 3100         1\n",
       "Name: gpu_number_identifier, dtype: int64"
      ]
     },
     "execution_count": 42,
     "metadata": {},
     "output_type": "execute_result"
    }
   ],
   "source": [
    "laptops_category[\"gpu_number_identifier\"].value_counts()"
   ]
  },
  {
   "cell_type": "code",
   "execution_count": 43,
   "id": "d3c3536f",
   "metadata": {},
   "outputs": [
    {
     "data": {
      "text/plain": [
       "0               130\n",
       "gtx              53\n",
       "geforce gtx      33\n",
       "rtx              26\n",
       "geforce rtx      17\n",
       "quadro            9\n",
       "geforce mx        5\n",
       "geforce           2\n",
       "gt                2\n",
       "Radeon5           1\n",
       "geforce gtx       1\n",
       "radeon            1\n",
       "rx                1\n",
       "Name: gpu_words_identifier, dtype: int64"
      ]
     },
     "execution_count": 43,
     "metadata": {},
     "output_type": "execute_result"
    }
   ],
   "source": [
    "laptops_category[\"gpu_words_identifier\"].value_counts()"
   ]
  },
  {
   "cell_type": "code",
   "execution_count": 44,
   "id": "d27c40d2",
   "metadata": {},
   "outputs": [
    {
     "data": {
      "text/plain": [
       "fhd    216\n",
       "hd      39\n",
       "4k      19\n",
       "3k       6\n",
       "2k       1\n",
       "Name: screen_resolution, dtype: int64"
      ]
     },
     "execution_count": 44,
     "metadata": {},
     "output_type": "execute_result"
    }
   ],
   "source": [
    "laptops_category[\"screen_resolution\"].value_counts()"
   ]
  },
  {
   "cell_type": "code",
   "execution_count": 45,
   "id": "a8638ba5",
   "metadata": {},
   "outputs": [
    {
     "data": {
      "text/plain": [
       "intel    249\n",
       "amd       32\n",
       "Name: cpu_brand, dtype: int64"
      ]
     },
     "execution_count": 45,
     "metadata": {},
     "output_type": "execute_result"
    }
   ],
   "source": [
    "laptops_category[\"cpu_brand\"].value_counts()"
   ]
  },
  {
   "cell_type": "code",
   "execution_count": 46,
   "id": "bf5738a2",
   "metadata": {},
   "outputs": [
    {
     "data": {
      "image/png": "[encoded data removed]",
      "text/plain": [
       "<Figure size 1440x1080 with 12 Axes>"
      ]
     },
     "metadata": {
      "needs_background": "light"
     },
     "output_type": "display_data"
    }
   ],
   "source": [
    "\n",
    "%matplotlib inline\n",
    "import matplotlib.pyplot as plt\n",
    "laptops.hist(bins=50, figsize= (20, 15))\n",
    "plt.show()"
   ]
  },
  {
   "cell_type": "code",
   "execution_count": null,
   "id": "67087286",
   "metadata": {},
   "outputs": [],
   "source": []
  },
  {
   "cell_type": "code",
   "execution_count": 47,
   "id": "a973cb17",
   "metadata": {},
   "outputs": [
    {
     "data": {
      "text/plain": [
       "[array(['0', 'ddr3', 'ddr3l', 'ddr4', 'ddr4x', 'sdram'], dtype=object),\n",
       " array(['0', '1005', '10110', '10210', '10300', '10310', '1035', '10500',\n",
       "        '10510', '1065', '10750', '10850', '10885', '1115', '11300',\n",
       "        '1135', '11370', '11390', '1145', '1165', '11800', '1185', '11900',\n",
       "        '1195', '11950', '2500', '3150', '3200', '3500', '3750', '4020',\n",
       "        '4200', '4210', '4300', '4510', '4600', '4650', '4700', '4800',\n",
       "        '5000', '5005', '5030', '5500', '5600', '5700', '5800', '5900',\n",
       "        '6200', '6300', '6500', '6700', '6820', '7020', '7100', '7200',\n",
       "        '7300', '7500', '7700', '8130', '8250', '8265', '8300', '8350',\n",
       "        '8365', '8550', '8565', '8665', '8750', '8850', '9125', '9300',\n",
       "        '9420', '9750', '9850', '9980'], dtype=object),\n",
       " array(['acer', 'apple', 'asus', 'dell', 'dynabook', 'fujitsu', 'hp',\n",
       "        'huawei', 'lenovo', 'microsoft', 'msi', 'toshiba', 'xiaomi'],\n",
       "       dtype=object),\n",
       " array(['0', 'g1', 'g4', 'g7', 'h', 'hf', 'hk', 'hq', 'hx', 'k', 'm', 'n',\n",
       "        'q', 'u', nan], dtype=object),\n",
       " array(['A4', 'A9', 'Athlon ', 'Pentium', 'celeron', 'i3', 'i5', 'i7',\n",
       "        'i9', 'pentium silver', 'ryzen3', 'ryzen5', 'ryzen7', 'ryzen9'],\n",
       "       dtype=object),\n",
       " array(['0', 'amd', 'nvidia'], dtype=object),\n",
       " array(['0', '1050', '1050 ti', '1060', '1060 max-q', '1070', '150',\n",
       "        '1650', '1650 ti', '1660 ti', '2060', '2060 max-q', '2070', '2080',\n",
       "        '2080 max-q', '250', '3050', '3050 ti', '3060', '3070', '3080',\n",
       "        '330', '450', '5600m', '930mx', '940mx', '960M', 'M420', 'M520',\n",
       "        'MX110', 'T2000', 'a4000', 'm1200', 'mx130', 'p620', 't1000',\n",
       "        't2000', 't500', 'wx 3100'], dtype=object),\n",
       " array(['0', 'Radeon5', 'geforce', 'geforce gtx', 'geforce gtx ',\n",
       "        'geforce mx', 'geforce rtx', 'gt', 'gtx', 'quadro', 'radeon',\n",
       "        'rtx', 'rx'], dtype=object),\n",
       " array(['2k', '3k', '4k', 'fhd', 'hd'], dtype=object),\n",
       " array(['amd', 'intel'], dtype=object)]"
      ]
     },
     "execution_count": 47,
     "metadata": {},
     "output_type": "execute_result"
    }
   ],
   "source": [
    "####\n",
    "## Encoding \n",
    "#### \n",
    "###useing OneHot Encoder \n",
    "from sklearn.preprocessing import OneHotEncoder\n",
    "onehot_encoder= OneHotEncoder()\n",
    "laptops_category_encoded= onehot_encoder.fit_transform(laptops_category)\n",
    "laptops_category_encoded.toarray()[0]\n",
    "onehot_encoder.categories_\n",
    "\n"
   ]
  },
  {
   "cell_type": "code",
   "execution_count": 48,
   "id": "2658b372",
   "metadata": {},
   "outputs": [],
   "source": [
    "#####\n",
    "## NUMIRICAL VALUES STANDRAIZATION\n",
    "#####\n",
    "from sklearn.pipeline import Pipeline\n",
    "from sklearn.preprocessing import StandardScaler\n",
    "from sklearn.impute import SimpleImputer\n",
    "\n",
    "num_pipeline_std= Pipeline([\n",
    "    (\"imputer\", SimpleImputer(strategy=\"median\")),\n",
    "    (\"standered_scaler\", StandardScaler())\n",
    "])\n",
    "\n",
    "laptops_num_transformed= num_pipeline_std.fit_transform(laptops_num)\n",
    "#labtops_num_transformed\n",
    "\n"
   ]
  },
  {
   "cell_type": "code",
   "execution_count": 49,
   "id": "990dadd3",
   "metadata": {},
   "outputs": [
    {
     "data": {
      "text/plain": [
       "array([[-1.10912521,  1.20795976,  0.60765823, ...,  0.34254867,\n",
       "         1.5185132 , -0.35848857],\n",
       "       [-1.10912521, -1.54355359, -0.89676434, ..., -0.80692177,\n",
       "         1.5185132 , -0.35848857],\n",
       "       [-1.10912521,  0.33247824,  0.60765823, ..., -0.42376496,\n",
       "         1.5185132 , -0.35848857],\n",
       "       ...,\n",
       "       [ 0.90161146,  0.08234066, -0.89676434, ...,  0.34254867,\n",
       "        -0.65853889, -0.35848857],\n",
       "       [ 0.90161146,  0.58261582, -0.89676434, ...,  0.34254867,\n",
       "        -0.65853889, -0.35848857],\n",
       "       [ 0.90161146,  0.33247824, -0.89676434, ...,  0.34254867,\n",
       "        -0.65853889, -0.35848857]])"
      ]
     },
     "execution_count": 49,
     "metadata": {},
     "output_type": "execute_result"
    }
   ],
   "source": [
    "#####\n",
    "## STANDARAIZATION && MinMaxScalling and Using the imputer to fill the missing values\n",
    "#####\n",
    "\n",
    "from sklearn.preprocessing import MinMaxScaler\n",
    "\n",
    "num_pipeline_full= Pipeline([\n",
    "    (\"imputer\", SimpleImputer(strategy=\"median\")),\n",
    "    (\"MinMax_scaler\", MinMaxScaler()),\n",
    "    (\"standered_scaler\", StandardScaler())\n",
    "])\n",
    "\n",
    "laptops_num_transformed= num_pipeline_full.fit_transform(laptops_num)\n",
    "laptops_num_transformed\n",
    "\n"
   ]
  },
  {
   "cell_type": "code",
   "execution_count": 50,
   "id": "5a85316d",
   "metadata": {},
   "outputs": [
    {
     "data": {
      "image/png": "[encoded data removed]",
      "text/plain": [
       "<Figure size 1440x1080 with 12 Axes>"
      ]
     },
     "metadata": {
      "needs_background": "light"
     },
     "output_type": "display_data"
    }
   ],
   "source": [
    "#####\n",
    "### Showcasing the numirical data values after the \n",
    "###      STANDARAIZATION and scalling\n",
    "#####\n",
    "pd.DataFrame(laptops_num_transformed, columns=list(laptops_num.columns)).hist(bins=50, figsize= (20, 15))\n",
    "plt.show()"
   ]
  },
  {
   "cell_type": "code",
   "execution_count": 51,
   "id": "5b4162ec",
   "metadata": {},
   "outputs": [
    {
     "data": {
      "text/plain": [
       "<281x196 sparse matrix of type '<class 'numpy.float64'>'\n",
       "\twith 5901 stored elements in Compressed Sparse Row format>"
      ]
     },
     "execution_count": 51,
     "metadata": {},
     "output_type": "execute_result"
    }
   ],
   "source": [
    "#####\n",
    "## Applying the Encoding and the scalling to the data set ,\n",
    "##        and Receiving the prepared data-set\n",
    "#####\n",
    "category_att= list(category_cols.keys())\n",
    "num_att= list(laptops_num.columns)\n",
    "\n",
    "\n",
    "from sklearn.compose import ColumnTransformer\n",
    "\n",
    "full_pipeline= ColumnTransformer([\n",
    "    (\"num\", num_pipeline_full, num_att),\n",
    "    (\"categories\", OneHotEncoder(), category_att)\n",
    "    \n",
    "])\n",
    "\n",
    "laptops_prepared= full_pipeline.fit_transform(laptops)\n",
    "laptops_prepared"
   ]
  },
  {
   "cell_type": "code",
   "execution_count": 55,
   "id": "19de426c",
   "metadata": {},
   "outputs": [
    {
     "data": {
      "text/plain": [
       "array([[296000],\n",
       "       [ 72900],\n",
       "       [228900],\n",
       "       [349000],\n",
       "       [180000],\n",
       "       [ 94900],\n",
       "       [ 72000],\n",
       "       [ 89000],\n",
       "       [259900],\n",
       "       [195000],\n",
       "       [153000],\n",
       "       [225000],\n",
       "       [180000],\n",
       "       [ 78000],\n",
       "       [155000],\n",
       "       [ 84000],\n",
       "       [112000],\n",
       "       [140000],\n",
       "       [155000],\n",
       "       [ 60000],\n",
       "       [133000],\n",
       "       [ 42000],\n",
       "       [169000],\n",
       "       [ 75000],\n",
       "       [124000],\n",
       "       [105000],\n",
       "       [110000],\n",
       "       [128900],\n",
       "       [ 85900],\n",
       "       [ 92900],\n",
       "       [ 89900],\n",
       "       [147000],\n",
       "       [ 65500],\n",
       "       [ 65500],\n",
       "       [121999],\n",
       "       [147000],\n",
       "       [ 65000],\n",
       "       [140000],\n",
       "       [113000],\n",
       "       [138000],\n",
       "       [165000],\n",
       "       [155000],\n",
       "       [105000],\n",
       "       [115000],\n",
       "       [ 70000],\n",
       "       [108000],\n",
       "       [104000],\n",
       "       [100000],\n",
       "       [ 58000],\n",
       "       [ 76000],\n",
       "       [ 52000],\n",
       "       [ 82000],\n",
       "       [118000],\n",
       "       [104000],\n",
       "       [112000],\n",
       "       [115000],\n",
       "       [127000],\n",
       "       [132000],\n",
       "       [ 75000],\n",
       "       [ 62000],\n",
       "       [ 98000],\n",
       "       [128000],\n",
       "       [190000],\n",
       "       [210000],\n",
       "       [235000],\n",
       "       [130000],\n",
       "       [148000],\n",
       "       [ 96000],\n",
       "       [ 80000],\n",
       "       [ 78000],\n",
       "       [ 94000],\n",
       "       [108000],\n",
       "       [278000],\n",
       "       [138000],\n",
       "       [158000],\n",
       "       [ 96000],\n",
       "       [ 98000],\n",
       "       [ 98000],\n",
       "       [158000],\n",
       "       [169000],\n",
       "       [280000],\n",
       "       [230000],\n",
       "       [ 74000],\n",
       "       [105000],\n",
       "       [105000],\n",
       "       [178000],\n",
       "       [148000],\n",
       "       [105000],\n",
       "       [118000],\n",
       "       [168000],\n",
       "       [ 48000],\n",
       "       [ 78000],\n",
       "       [105000],\n",
       "       [118000],\n",
       "       [168000],\n",
       "       [ 48000],\n",
       "       [ 78000],\n",
       "       [228000],\n",
       "       [210000],\n",
       "       [230000],\n",
       "       [239000],\n",
       "       [183000],\n",
       "       [265000],\n",
       "       [153000],\n",
       "       [143000],\n",
       "       [103000],\n",
       "       [179500],\n",
       "       [215000],\n",
       "       [115000],\n",
       "       [319000],\n",
       "       [265000],\n",
       "       [198000],\n",
       "       [158000],\n",
       "       [169000],\n",
       "       [198000],\n",
       "       [179000],\n",
       "       [113000],\n",
       "       [135000],\n",
       "       [149000],\n",
       "       [198000],\n",
       "       [205000],\n",
       "       [270000],\n",
       "       [285000],\n",
       "       [135000],\n",
       "       [265000],\n",
       "       [580000],\n",
       "       [123000],\n",
       "       [125000],\n",
       "       [114000],\n",
       "       [140000],\n",
       "       [260000],\n",
       "       [165000],\n",
       "       [200000],\n",
       "       [165000],\n",
       "       [255000],\n",
       "       [258000],\n",
       "       [289000],\n",
       "       [160000],\n",
       "       [160000],\n",
       "       [176000],\n",
       "       [153000],\n",
       "       [162000],\n",
       "       [164000],\n",
       "       [162000],\n",
       "       [247000],\n",
       "       [ 72000],\n",
       "       [148000],\n",
       "       [125000],\n",
       "       [114000],\n",
       "       [140000],\n",
       "       [260000],\n",
       "       [289000],\n",
       "       [200000],\n",
       "       [165000],\n",
       "       [255000],\n",
       "       [258000],\n",
       "       [165000],\n",
       "       [160000],\n",
       "       [160000],\n",
       "       [176000],\n",
       "       [148000],\n",
       "       [125000],\n",
       "       [155000],\n",
       "       [138000],\n",
       "       [692000],\n",
       "       [150000],\n",
       "       [105000],\n",
       "       [178900],\n",
       "       [218000],\n",
       "       [230000],\n",
       "       [340000],\n",
       "       [248000],\n",
       "       [100000],\n",
       "       [420000],\n",
       "       [365000],\n",
       "       [365000],\n",
       "       [280000],\n",
       "       [169000],\n",
       "       [158000],\n",
       "       [ 98000],\n",
       "       [ 98000],\n",
       "       [130000],\n",
       "       [128000],\n",
       "       [124000],\n",
       "       [118000],\n",
       "       [ 85000],\n",
       "       [115000],\n",
       "       [105000],\n",
       "       [ 94000],\n",
       "       [110000],\n",
       "       [140000],\n",
       "       [148000],\n",
       "       [ 65000],\n",
       "       [ 74000],\n",
       "       [ 96000],\n",
       "       [ 73800],\n",
       "       [105000],\n",
       "       [218000],\n",
       "       [138000],\n",
       "       [238000],\n",
       "       [115000],\n",
       "       [128000],\n",
       "       [132000],\n",
       "       [105000],\n",
       "       [135000],\n",
       "       [138000],\n",
       "       [118000],\n",
       "       [208000],\n",
       "       [198000],\n",
       "       [290000],\n",
       "       [ 52000],\n",
       "       [258000],\n",
       "       [289000],\n",
       "       [247000],\n",
       "       [169000],\n",
       "       [164000],\n",
       "       [162000],\n",
       "       [162000],\n",
       "       [153000],\n",
       "       [176000],\n",
       "       [160000],\n",
       "       [162000],\n",
       "       [160000],\n",
       "       [148000],\n",
       "       [168000],\n",
       "       [258000],\n",
       "       [155000],\n",
       "       [210000],\n",
       "       [255000],\n",
       "       [158000],\n",
       "       [165000],\n",
       "       [138000],\n",
       "       [205000],\n",
       "       [147000],\n",
       "       [160000],\n",
       "       [165000],\n",
       "       [165000],\n",
       "       [160000],\n",
       "       [275000],\n",
       "       [170000],\n",
       "       [155000],\n",
       "       [260000],\n",
       "       [140000],\n",
       "       [140000],\n",
       "       [230000],\n",
       "       [160000],\n",
       "       [180000],\n",
       "       [114000],\n",
       "       [125000],\n",
       "       [140000],\n",
       "       [245000],\n",
       "       [230000],\n",
       "       [325000],\n",
       "       [228000],\n",
       "       [195000],\n",
       "       [265000],\n",
       "       [248000],\n",
       "       [295000],\n",
       "       [190000],\n",
       "       [380000],\n",
       "       [235000],\n",
       "       [410000],\n",
       "       [295000],\n",
       "       [420000],\n",
       "       [590000],\n",
       "       [365000],\n",
       "       [405000],\n",
       "       [135000],\n",
       "       [138000],\n",
       "       [248000],\n",
       "       [265000],\n",
       "       [335000],\n",
       "       [135000],\n",
       "       [129000],\n",
       "       [525000],\n",
       "       [230000],\n",
       "       [275000],\n",
       "       [149000],\n",
       "       [135000],\n",
       "       [185000],\n",
       "       [162000]])"
      ]
     },
     "execution_count": 55,
     "metadata": {},
     "output_type": "execute_result"
    }
   ],
   "source": [
    "column_label.values.reshape(281,1)"
   ]
  }
 ],
 "metadata": {
  "kernelspec": {
   "display_name": "Python 3 (ipykernel)",
   "language": "python",
   "name": "python3"
  },
  "language_info": {
   "codemirror_mode": {
    "name": "ipython",
    "version": 3
   },
   "file_extension": ".py",
   "mimetype": "text/x-python",
   "name": "python",
   "nbconvert_exporter": "python",
   "pygments_lexer": "ipython3",
   "version": "3.10.4"
  }
 },
 "nbformat": 4,
 "nbformat_minor": 5
}
